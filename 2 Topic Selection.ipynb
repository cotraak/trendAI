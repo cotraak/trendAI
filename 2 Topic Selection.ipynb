{
 "cells": [
  {
   "cell_type": "code",
   "execution_count": 1,
   "metadata": {},
   "outputs": [],
   "source": [
    "import pandas as pd\n",
    "import joblib\n",
    "from gensim. models import LdaMulticore, CoherenceModel"
   ]
  },
  {
   "cell_type": "code",
   "execution_count": 2,
   "metadata": {},
   "outputs": [
    {
     "data": {
      "text/html": [
       "<div>\n",
       "<style scoped>\n",
       "    .dataframe tbody tr th:only-of-type {\n",
       "        vertical-align: middle;\n",
       "    }\n",
       "\n",
       "    .dataframe tbody tr th {\n",
       "        vertical-align: top;\n",
       "    }\n",
       "\n",
       "    .dataframe thead th {\n",
       "        text-align: right;\n",
       "    }\n",
       "</style>\n",
       "<table border=\"1\" class=\"dataframe\">\n",
       "  <thead>\n",
       "    <tr style=\"text-align: right;\">\n",
       "      <th></th>\n",
       "      <th>Application Id</th>\n",
       "      <th>Application Year</th>\n",
       "      <th>Full Text</th>\n",
       "      <th>Applicant</th>\n",
       "      <th>type</th>\n",
       "      <th>clean_text</th>\n",
       "      <th>phrases</th>\n",
       "    </tr>\n",
       "  </thead>\n",
       "  <tbody>\n",
       "    <tr>\n",
       "      <th>0</th>\n",
       "      <td>US42597370</td>\n",
       "      <td>2000</td>\n",
       "      <td>bacterial strains genes and enzymes for contro...</td>\n",
       "      <td>Institute Of Molecular Agrobiology</td>\n",
       "      <td>Research Institute</td>\n",
       "      <td>bacterial strain gene enzyme control bacterial...</td>\n",
       "      <td>['bacterial_strain', 'gene', 'enzyme', 'contro...</td>\n",
       "    </tr>\n",
       "    <tr>\n",
       "      <th>1</th>\n",
       "      <td>US39458207</td>\n",
       "      <td>2000</td>\n",
       "      <td>reversible rolling method and reversible rolli...</td>\n",
       "      <td>Hitachi</td>\n",
       "      <td>Company</td>\n",
       "      <td>reversible rolling reversible rolling pass sch...</td>\n",
       "      <td>['reversible', 'rolling', 'reversible', 'rolli...</td>\n",
       "    </tr>\n",
       "    <tr>\n",
       "      <th>2</th>\n",
       "      <td>WO2001024205</td>\n",
       "      <td>2000</td>\n",
       "      <td>composite magnetic sheet and method of produci...</td>\n",
       "      <td>Tokin Corporation</td>\n",
       "      <td>Company</td>\n",
       "      <td>composite magnetic sheet composite magnetic bo...</td>\n",
       "      <td>['composite', 'magnetic', 'sheet', 'composite'...</td>\n",
       "    </tr>\n",
       "    <tr>\n",
       "      <th>3</th>\n",
       "      <td>US39488862</td>\n",
       "      <td>2000</td>\n",
       "      <td>compounding assembly for nutritional fluids an...</td>\n",
       "      <td>Baxter International Inc</td>\n",
       "      <td>Company</td>\n",
       "      <td>compounding assembly nutritional fluid assembl...</td>\n",
       "      <td>['compounding', 'assembly', 'nutritional', 'fl...</td>\n",
       "    </tr>\n",
       "    <tr>\n",
       "      <th>4</th>\n",
       "      <td>US39579616</td>\n",
       "      <td>2000</td>\n",
       "      <td>hydrotreating catalyst for hydrotreating hydro...</td>\n",
       "      <td>Tonen Corporation</td>\n",
       "      <td>Company</td>\n",
       "      <td>hydrotreating catalyst hydrocarbon highactivit...</td>\n",
       "      <td>['hydrotreating_catalyst', 'hydrocarbon', 'hig...</td>\n",
       "    </tr>\n",
       "  </tbody>\n",
       "</table>\n",
       "</div>"
      ],
      "text/plain": [
       "  Application Id  Application Year  \\\n",
       "0     US42597370              2000   \n",
       "1     US39458207              2000   \n",
       "2   WO2001024205              2000   \n",
       "3     US39488862              2000   \n",
       "4     US39579616              2000   \n",
       "\n",
       "                                           Full Text  \\\n",
       "0  bacterial strains genes and enzymes for contro...   \n",
       "1  reversible rolling method and reversible rolli...   \n",
       "2  composite magnetic sheet and method of produci...   \n",
       "3  compounding assembly for nutritional fluids an...   \n",
       "4  hydrotreating catalyst for hydrotreating hydro...   \n",
       "\n",
       "                            Applicant                type  \\\n",
       "0  Institute Of Molecular Agrobiology  Research Institute   \n",
       "1                             Hitachi             Company   \n",
       "2                   Tokin Corporation             Company   \n",
       "3            Baxter International Inc             Company   \n",
       "4                   Tonen Corporation             Company   \n",
       "\n",
       "                                          clean_text  \\\n",
       "0  bacterial strain gene enzyme control bacterial...   \n",
       "1  reversible rolling reversible rolling pass sch...   \n",
       "2  composite magnetic sheet composite magnetic bo...   \n",
       "3  compounding assembly nutritional fluid assembl...   \n",
       "4  hydrotreating catalyst hydrocarbon highactivit...   \n",
       "\n",
       "                                             phrases  \n",
       "0  ['bacterial_strain', 'gene', 'enzyme', 'contro...  \n",
       "1  ['reversible', 'rolling', 'reversible', 'rolli...  \n",
       "2  ['composite', 'magnetic', 'sheet', 'composite'...  \n",
       "3  ['compounding', 'assembly', 'nutritional', 'fl...  \n",
       "4  ['hydrotreating_catalyst', 'hydrocarbon', 'hig...  "
      ]
     },
     "execution_count": 2,
     "metadata": {},
     "output_type": "execute_result"
    }
   ],
   "source": [
    "df=pd.read_excel('wipo_processed_phrases.xlsx')\n",
    "df.head()"
   ]
  },
  {
   "cell_type": "code",
   "execution_count": 3,
   "metadata": {},
   "outputs": [
    {
     "name": "stderr",
     "output_type": "stream",
     "text": [
      "100%|██████████| 89250/89250 [00:02<00:00, 33480.61it/s]\n"
     ]
    },
    {
     "data": {
      "text/plain": [
       "89250"
      ]
     },
     "execution_count": 3,
     "metadata": {},
     "output_type": "execute_result"
    }
   ],
   "source": [
    "import ast\n",
    "from gensim import corpora\n",
    "from tqdm import tqdm\n",
    "import numpy as np\n",
    "\n",
    "np.random.seed(3)\n",
    "\n",
    "tokens=[ast.literal_eval(x) for x in df.drop_duplicates('Full Text')['phrases'].tolist()]\n",
    "\n",
    "id2w = corpora.Dictionary(tokens)\n",
    "corpus=[]\n",
    "for rev in tqdm(tokens):\n",
    "    corpus.append(id2w.doc2bow(rev))\n",
    "len(tokens)"
   ]
  },
  {
   "cell_type": "code",
   "execution_count": null,
   "metadata": {},
   "outputs": [
    {
     "name": "stderr",
     "output_type": "stream",
     "text": [
      " 50%|█████     | 2/4 [20:03<20:09, 604.84s/it]"
     ]
    }
   ],
   "source": [
    "import time\n",
    "model={}\n",
    "coherence_model_lda=[]\n",
    "for t in tqdm(range(6,15)):\n",
    "    model[t] = LdaMulticore(corpus, num_topics=t, id2word=id2w, passes=50,workers=15)\n",
    "    joblib.dump(model[t], f'model_{t}.sav')\n",
    "    vis[t] = pyLDAvis.gensim.prepare(model[t], corpus, dictionary=id2w)\n",
    "    coherence_model_lda.append(CoherenceModel(model=model[t], texts=tokens, dictionary=id2w, coherence='c_v').get_coherence())\n",
    "    if t%2==0:\n",
    "        time.sleep(5)"
   ]
  },
  {
   "cell_type": "code",
   "execution_count": null,
   "metadata": {},
   "outputs": [],
   "source": [
    "import plotly.graph_objects as go\n",
    "fig = go.Figure(data=go.Scatter(x=list(range(16,20)), y=coherence_model_lda, mode='lines+markers'))\n",
    "fig.update_layout(template='simple_white')\n",
    "fig.show()"
   ]
  },
  {
   "cell_type": "code",
   "execution_count": null,
   "metadata": {},
   "outputs": [],
   "source": []
  }
 ],
 "metadata": {
  "kernelspec": {
   "display_name": "Python 3",
   "language": "python",
   "name": "python3"
  },
  "language_info": {
   "codemirror_mode": {
    "name": "ipython",
    "version": 3
   },
   "file_extension": ".py",
   "mimetype": "text/x-python",
   "name": "python",
   "nbconvert_exporter": "python",
   "pygments_lexer": "ipython3",
   "version": "3.8.6"
  }
 },
 "nbformat": 4,
 "nbformat_minor": 4
}
