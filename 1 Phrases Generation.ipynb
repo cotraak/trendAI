{
 "cells": [
  {
   "cell_type": "code",
   "execution_count": 1,
   "metadata": {},
   "outputs": [],
   "source": [
    "import pandas as pd\n",
    "from tqdm import tqdm\n",
    "import time\n",
    "\n",
    "import numpy as np\n",
    "np.random.seed(3)\n",
    "\n",
    "import joblib\n",
    "import plotly.express as px\n",
    "\n",
    "import warnings\n",
    "warnings.simplefilter('ignore')\n",
    "\n",
    "import re\n",
    "tqdm.pandas()\n",
    "\n",
    "import nltk\n",
    "from nltk.tokenize import word_tokenize\n",
    "from nltk.stem.porter import PorterStemmer\n",
    "from nltk.stem import SnowballStemmer\n",
    "\n",
    "import spacy\n",
    "\n",
    "from gensim import models\n",
    "from tqdm import tqdm\n",
    "import numpy as np\n",
    "\n",
    "import plotly.graph_objects as go\n",
    "\n",
    "from sklearn.feature_extraction.text import CountVectorizer\n",
    "\n",
    "from gensim import corpora\n",
    "from p_tqdm import p_map"
   ]
  },
  {
   "cell_type": "code",
   "execution_count": 2,
   "metadata": {},
   "outputs": [],
   "source": [
    "df=pd.read_excel('/home/ubuntu/MyNotebooks/Data/wipo_ai_processed2.xlsx')"
   ]
  },
  {
   "cell_type": "code",
   "execution_count": 3,
   "metadata": {},
   "outputs": [
    {
     "data": {
      "text/html": [
       "<div>\n",
       "<style scoped>\n",
       "    .dataframe tbody tr th:only-of-type {\n",
       "        vertical-align: middle;\n",
       "    }\n",
       "\n",
       "    .dataframe tbody tr th {\n",
       "        vertical-align: top;\n",
       "    }\n",
       "\n",
       "    .dataframe thead th {\n",
       "        text-align: right;\n",
       "    }\n",
       "</style>\n",
       "<table border=\"1\" class=\"dataframe\">\n",
       "  <thead>\n",
       "    <tr style=\"text-align: right;\">\n",
       "      <th></th>\n",
       "      <th>Application Id</th>\n",
       "      <th>Application Year</th>\n",
       "      <th>Full Text</th>\n",
       "      <th>Applicant</th>\n",
       "      <th>type</th>\n",
       "    </tr>\n",
       "  </thead>\n",
       "  <tbody>\n",
       "    <tr>\n",
       "      <th>0</th>\n",
       "      <td>US42597370</td>\n",
       "      <td>2000</td>\n",
       "      <td>bacterial strains genes and enzymes for contro...</td>\n",
       "      <td>Institute Of Molecular Agrobiology</td>\n",
       "      <td>Research Institute</td>\n",
       "    </tr>\n",
       "    <tr>\n",
       "      <th>1</th>\n",
       "      <td>US39458207</td>\n",
       "      <td>2000</td>\n",
       "      <td>reversible rolling method and reversible rolli...</td>\n",
       "      <td>Hitachi</td>\n",
       "      <td>Company</td>\n",
       "    </tr>\n",
       "    <tr>\n",
       "      <th>2</th>\n",
       "      <td>WO2001024205</td>\n",
       "      <td>2000</td>\n",
       "      <td>composite magnetic sheet and method of produci...</td>\n",
       "      <td>Tokin Corporation</td>\n",
       "      <td>Company</td>\n",
       "    </tr>\n",
       "    <tr>\n",
       "      <th>3</th>\n",
       "      <td>US39488862</td>\n",
       "      <td>2000</td>\n",
       "      <td>compounding assembly for nutritional fluids an...</td>\n",
       "      <td>Baxter International Inc</td>\n",
       "      <td>Company</td>\n",
       "    </tr>\n",
       "    <tr>\n",
       "      <th>4</th>\n",
       "      <td>US39579616</td>\n",
       "      <td>2000</td>\n",
       "      <td>hydrotreating catalyst for hydrotreating hydro...</td>\n",
       "      <td>Tonen Corporation</td>\n",
       "      <td>Company</td>\n",
       "    </tr>\n",
       "  </tbody>\n",
       "</table>\n",
       "</div>"
      ],
      "text/plain": [
       "  Application Id  Application Year  \\\n",
       "0     US42597370              2000   \n",
       "1     US39458207              2000   \n",
       "2   WO2001024205              2000   \n",
       "3     US39488862              2000   \n",
       "4     US39579616              2000   \n",
       "\n",
       "                                           Full Text  \\\n",
       "0  bacterial strains genes and enzymes for contro...   \n",
       "1  reversible rolling method and reversible rolli...   \n",
       "2  composite magnetic sheet and method of produci...   \n",
       "3  compounding assembly for nutritional fluids an...   \n",
       "4  hydrotreating catalyst for hydrotreating hydro...   \n",
       "\n",
       "                            Applicant                type  \n",
       "0  Institute Of Molecular Agrobiology  Research Institute  \n",
       "1                             Hitachi             Company  \n",
       "2                   Tokin Corporation             Company  \n",
       "3            Baxter International Inc             Company  \n",
       "4                   Tonen Corporation             Company  "
      ]
     },
     "execution_count": 3,
     "metadata": {},
     "output_type": "execute_result"
    }
   ],
   "source": [
    "df.head()"
   ]
  },
  {
   "cell_type": "code",
   "execution_count": 4,
   "metadata": {},
   "outputs": [],
   "source": [
    "nlp = spacy.load('en_core_web_md') #initializing stopwords\n",
    "stop_words = list(spacy.lang.en.stop_words.STOP_WORDS) +['present','disclosure','method', 'system', 'use', 'useful', 'overall', 'have', 'having', 'said', 'relates', 'embodiment','methods','invention','consists','disclosed','inventions','apparatus','include','includes','provide','consist','comprise','comprises','includes','including','provided']"
   ]
  },
  {
   "cell_type": "code",
   "execution_count": 5,
   "metadata": {
    "scrolled": false
   },
   "outputs": [],
   "source": [
    "def process_text(text, stem=False): #clean text\n",
    "    \n",
    "    text = re.sub('[^A-Za-z]', ' ', text.lower()) #remove non-alphabets\n",
    "    \n",
    "    clean_text = [\n",
    "         str(word.lemma_) for word in nlp(text)\n",
    "         if word.pos_ in ['PROPN','NOUN','ADJ'] and str(word) not in stop_words\n",
    "    ]\n",
    "    clean_text=[x for x in clean_text if len(x)>1]\n",
    "    return ' '.join(clean_text)"
   ]
  },
  {
   "cell_type": "code",
   "execution_count": 6,
   "metadata": {},
   "outputs": [
    {
     "data": {
      "application/vnd.jupyter.widget-view+json": {
       "model_id": "a9944a8f6b2a47db9c648760d99be783",
       "version_major": 2,
       "version_minor": 0
      },
      "text/plain": [
       "HBox(children=(FloatProgress(value=0.0, max=102579.0), HTML(value='')))"
      ]
     },
     "metadata": {},
     "output_type": "display_data"
    },
    {
     "name": "stdout",
     "output_type": "stream",
     "text": [
      "\n"
     ]
    }
   ],
   "source": [
    "clean_text=p_map(process_text, df['Full Text'].astype(str).tolist())"
   ]
  },
  {
   "cell_type": "code",
   "execution_count": 7,
   "metadata": {},
   "outputs": [],
   "source": [
    "from gensim.models.phrases import Phrases, Phraser\n",
    "\n",
    "text_tokens=[x.split() for x in clean_text]\n",
    "\n",
    "phrases=Phrases(text_tokens, min_count=5)"
   ]
  },
  {
   "cell_type": "code",
   "execution_count": 8,
   "metadata": {},
   "outputs": [
    {
     "name": "stdout",
     "output_type": "stream",
     "text": [
      "['single_chain', 'antibody', 'mutant', 'mutation', 'protein', 'conformational_change', 'exposure', 'epitope', 'hydrophobic', 'core', 'molecule', 'single_chain', 'antibody_scfv', 'common', 'mutant', 'epitope', 'mutant', 'wild_type', 'dna_molecule', 'scfv', 'pharmaceutical_composition', 'antibody', 'treatment', 'pharmaceutical_composition']\n",
      "['vacuum', 'processing', 'equipment', 'wafer', 'vacuum', 'processing', 'equipment', 'multiple', 'set', 'succession', 'different', 'process', 'individual', 'wafer_wafer', 'processing', 'set', 'transport', 'set', 'wafer', 'processing', 'route', 'multiple', 'set', 'processing', 'possible', 'set', 'processing', 'process', 'valid_invalid', 'status', 'operation', 'processing', 'operational_status', 'invalid', 'processing', 'route', 'processing', 'operational_status', 'valid', 'wafer', 'processing', 'valid', 'operation']\n",
      "['image', 'processing', 'example', 'order', 'conversion', 'smooth', 'skin', 'wrinkle', 'enhancement', 'natural', 'look', 'grain', 'texture', 'skin', 'specific', 'amplitude', 'band', 'variation', 'component', 'separation', 'type', 'digital', 'filter', 'filter', 'specific', 'amplitude', 'band', 'variation', 'component', 'calculation', 'section', 'calculation', 'section', 'specific', 'amplitude', 'band', 'variation', 'component', 'input', 'image', 'signal', 'filter', 'image', 'signal', 'component', 'input', 'image', 'signal', 'conversion', 'smooth', 'skin', 'component', 'input', 'image', 'signal', 'wrinkle', 'enhancement', 'response', 'external', 'correction', 'instruction']\n",
      "['configuring', 'node', 'ring_ring', 'configuring', 'network', 'plurality', 'node', 'topology', 'construction', 'ring_topology', 'datum', 'respective', 'node', 'connection', 'information', 'respective', 'node', 'step', 'topology', 'flag', 'connection', 'information', 'node', 'flag', 'terminal', 'station', 'end', 'node', 'open', 'ring_topology', 'data', 'topology', 'datum', 'node', 'terminal', 'station', 'connection', 'information', 'topology', 'datum', 'node', 'flag', 'topology', 'construction']\n",
      "['door', 'power', 'drive', 'door_door', 'passageway', 'spaced_relation', 'airlock', 'door', 'leaf', 'movable', 'open_closed', 'position', 'passage', 'airlock', 'control', 'operation', 'leaf', 'movement', 'actuator', 'normal_operation', 'door', 'closed', 'flow', 'air', 'power', 'source', 'movement', 'leafs', 'actuator']\n"
     ]
    }
   ],
   "source": [
    "tokens=phrases[text_tokens]\n",
    "for token in tokens[100:105]:\n",
    "    print(token)"
   ]
  },
  {
   "cell_type": "code",
   "execution_count": 9,
   "metadata": {},
   "outputs": [],
   "source": [
    "df['clean_text']=clean_text\n",
    "df['phrases']=tokens\n",
    "df.to_excel('wipo_processed_phrases.xlsx', index=False)"
   ]
  },
  {
   "cell_type": "code",
   "execution_count": null,
   "metadata": {},
   "outputs": [],
   "source": []
  }
 ],
 "metadata": {
  "kernelspec": {
   "display_name": "Python 3",
   "language": "python",
   "name": "python3"
  },
  "language_info": {
   "codemirror_mode": {
    "name": "ipython",
    "version": 3
   },
   "file_extension": ".py",
   "mimetype": "text/x-python",
   "name": "python",
   "nbconvert_exporter": "python",
   "pygments_lexer": "ipython3",
   "version": "3.8.6"
  }
 },
 "nbformat": 4,
 "nbformat_minor": 4
}
