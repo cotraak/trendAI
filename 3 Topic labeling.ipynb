{
 "cells": [
  {
   "cell_type": "code",
   "execution_count": 1,
   "metadata": {},
   "outputs": [],
   "source": [
    "import pandas as pd\n",
    "from tqdm import tqdm\n",
    "import time\n",
    "\n",
    "import numpy as np\n",
    "np.random.seed(3)\n",
    "\n",
    "import plotly.express as px\n",
    "\n",
    "import warnings\n",
    "warnings.simplefilter('ignore')\n",
    "\n",
    "import re\n",
    "tqdm.pandas()\n",
    "\n",
    "import nltk\n",
    "from nltk.tokenize import word_tokenize\n",
    "from nltk.stem.porter import PorterStemmer\n",
    "from nltk.stem import SnowballStemmer\n",
    "\n",
    "import spacy\n",
    "\n",
    "from sklearn.feature_extraction.text import CountVectorizer\n",
    "\n",
    "from gensim import corpora\n",
    "from p_tqdm import p_map\n",
    "import ast"
   ]
  },
  {
   "cell_type": "code",
   "execution_count": 2,
   "metadata": {},
   "outputs": [],
   "source": [
    "import joblib\n",
    "model=joblib.load('model_7.sav')\n",
    "df=pd.read_excel('wipo_processed_phrases.xlsx')\n",
    "clean_text=df['clean_text'].tolist()\n",
    "tokens=[ast.literal_eval(x) for x in df['phrases'].tolist()]"
   ]
  },
  {
   "cell_type": "code",
   "execution_count": 3,
   "metadata": {},
   "outputs": [],
   "source": [
    "clean_text=df[~(df['clean_text'].isnull())]['clean_text'].tolist()"
   ]
  },
  {
   "cell_type": "code",
   "execution_count": 15,
   "metadata": {},
   "outputs": [
    {
     "name": "stdout",
     "output_type": "stream",
     "text": [
      "0 \"compound\" + \"composition\" + \"use\" + \"group\" + \"compound_formula\" + \"treatment\" + \"process\" + \"disease\" + \"pharmaceutical_composition\" + \"derivative\" + \"r\" + \"inhibitor\" + \"b\" + \"formula\" + \"c\" + \"catalyst\" + \"agent\" + \"combination\" + \"salt\" + \"useful\" + \"r_r\" + \"component\" + \"polymer\" + \"disorder\" + \"acid\" + \"condition\" + \"novel\" + \"metal\" + \"mixture\" + \"activity\"\n",
      "\n",
      "1 \"device\" + \"system\" + \"datum\" + \"user\" + \"information\" + \"plurality\" + \"input\" + \"second\" + \"sensor\" + \"content\" + \"processing\" + \"unit\" + \"object\" + \"control\" + \"processor\" + \"signal\" + \"vehicle\" + \"communication\" + \"location\" + \"data\" + \"response\" + \"application\" + \"electronic\" + \"memory\" + \"audio\" + \"operation\" + \"server\" + \"event\" + \"output\" + \"interface\"\n",
      "\n",
      "2 \"composition\" + \"material\" + \"particle\" + \"use\" + \"polypeptide\" + \"cell\" + \"system\" + \"plant\" + \"process\" + \"agent\" + \"nucleic_acid\" + \"molecule\" + \"product\" + \"production\" + \"sequence\" + \"surface\" + \"protein\" + \"water\" + \"portion\" + \"activity\" + \"target\" + \"fluid\" + \"antibody\" + \"acid\" + \"polymer\" + \"novel\" + \"amino_acid\" + \"component\" + \"liquid\" + \"coating\"\n",
      "\n",
      "3 \"signal\" + \"second\" + \"device\" + \"system\" + \"circuit\" + \"plurality\" + \"value\" + \"output\" + \"element\" + \"input\" + \"channel\" + \"power\" + \"frequency\" + \"unit\" + \"phase\" + \"control\" + \"material\" + \"current\" + \"transmission\" + \"antenna\" + \"sample\" + \"voltage\" + \"portion\" + \"measurement\" + \"time\" + \"array\" + \"component\" + \"surface\" + \"matrix\" + \"line\"\n",
      "\n",
      "4 \"cell\" + \"protein\" + \"subject\" + \"patient\" + \"cancer\" + \"treatment\" + \"vector\" + \"composition\" + \"use\" + \"disease\" + \"gene\" + \"peptide\" + \"human\" + \"expression\" + \"sequence\" + \"antibody\" + \"sample\" + \"system\" + \"nucleic_acid\" + \"tissue\" + \"level\" + \"vaccine\" + \"therapy\" + \"target\" + \"antigen\" + \"condition\" + \"particular\" + \"therapeutic\" + \"molecule\" + \"andor\"\n",
      "\n",
      "5 \"image\" + \"layer\" + \"second\" + \"device\" + \"surface\" + \"optical\" + \"lens\" + \"object\" + \"system\" + \"lens_element\" + \"light\" + \"region\" + \"unit\" + \"display\" + \"pixel\" + \"element\" + \"substrate\" + \"portion\" + \"plurality\" + \"position\" + \"point\" + \"material\" + \"area\" + \"group\" + \"imaging\" + \"color\" + \"pattern\" + \"film\" + \"processing\" + \"camera\"\n",
      "\n",
      "6 \"system\" + \"datum\" + \"network\" + \"set\" + \"model\" + \"information\" + \"plurality\" + \"node\" + \"second\" + \"value\" + \"data\" + \"communication\" + \"parameter\" + \"control\" + \"device\" + \"process\" + \"resource\" + \"service\" + \"function\" + \"number\" + \"message\" + \"input\" + \"feature\" + \"technique\" + \"multiple\" + \"time\" + \"entity\" + \"group\" + \"computer\" + \"document\"\n",
      "\n"
     ]
    }
   ],
   "source": [
    "topics = model.print_topics(num_words=30)\n",
    "for topic in topics:\n",
    "    print(topic[0], re.sub('[0-9.*]', '',topic[1]))\n",
    "    print()"
   ]
  },
  {
   "cell_type": "code",
   "execution_count": null,
   "metadata": {},
   "outputs": [],
   "source": [
    "labels={\n",
    "    0: 'Pharmaceutical Drug Development',\n",
    "    1: 'Networks/IOT',\n",
    "    2: 'Chemical Manufacturing',\n",
    "    3: 'Electronics and Semiconductor Manufacturing',\n",
    "    4: 'Biomedical Informatics',\n",
    "    5: 'Photography and Imaging',\n",
    "    6: 'Digital Data Processing'\n",
    "}"
   ]
  }
 ],
 "metadata": {
  "kernelspec": {
   "display_name": "Python 3",
   "language": "python",
   "name": "python3"
  },
  "language_info": {
   "codemirror_mode": {
    "name": "ipython",
    "version": 3
   },
   "file_extension": ".py",
   "mimetype": "text/x-python",
   "name": "python",
   "nbconvert_exporter": "python",
   "pygments_lexer": "ipython3",
   "version": "3.8.6"
  }
 },
 "nbformat": 4,
 "nbformat_minor": 4
}
