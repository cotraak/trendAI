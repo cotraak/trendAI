{
 "cells": [
  {
   "cell_type": "markdown",
   "metadata": {},
   "source": [
    "### Data Extraction\n",
    "\n",
    "- Used the PATENTSCOPE Artificial Intelligence Index to filter patents: https://www.wipo.int/tech_trends/en/artificial_intelligence/patentscope.html\n",
    "\n",
    "- Downloaded data 10,000 at a time by changing adjusting Application Dates.\n",
    "\n",
    "- Retrieved all patents till 2020."
   ]
  },
  {
   "cell_type": "code",
   "execution_count": 1,
   "metadata": {},
   "outputs": [],
   "source": [
    "#Import Libraries\n",
    "\n",
    "import pandas as pd\n",
    "from tqdm import tqdm\n",
    "import time\n",
    "import numpy as np\n",
    "import plotly.express as px\n",
    "\n",
    "import warnings\n",
    "warnings.simplefilter('ignore')\n",
    "\n",
    "import re\n",
    "tqdm.pandas()\n",
    "# pd.options.plotting.backend = \"plotly\"\n",
    "import nltk\n",
    "from nltk.tokenize import word_tokenize\n",
    "from nltk.stem.porter import PorterStemmer\n",
    "import spacy\n",
    "from p_tqdm import p_map"
   ]
  },
  {
   "cell_type": "markdown",
   "metadata": {},
   "source": [
    "### Data Cleaning\n",
    "\n",
    "- Duplicate 'Patent Number' were dropped keeping the first entry.\n",
    "- HTML tags in the text columns were removed using regex.\n",
    "- 'Application Year' and 'Publication Year' columns were added."
   ]
  },
  {
   "cell_type": "code",
   "execution_count": 2,
   "metadata": {},
   "outputs": [],
   "source": [
    "dfs=[]\n",
    "for i in tqdm(range(1,26)):\n",
    "    df=pd.read_excel(f'/Users/cotraak/Desktop/Research/ResultLists-WIPO/resultList-{i}.xls', skiprows=6)\n",
    "    dfs.append(df)\n",
    "dtf=pd.concat(dfs, ignore_index=True)\n",
    "print(dtf.shape)\n",
    "dtf['Application Year']=dtf['Application Date'].progress_apply(lambda x: str(x).split('.')[2])\n",
    "dtf=dtf.sort_values(by='Application Year')\n",
    "dtf.drop_duplicates(inplace=True)\n",
    "dtf.head()"
   ]
  },
  {
   "cell_type": "code",
   "execution_count": 3,
   "metadata": {},
   "outputs": [],
   "source": [
    "dtf.to_excel('/Users/cotraak/Desktop/Research/WIPO Process/Data/total_wipo_ai.xlsx', index=False)"
   ]
  },
  {
   "cell_type": "code",
   "execution_count": 4,
   "metadata": {},
   "outputs": [],
   "source": [
    "def app_pro(x):\n",
    "    res=''\n",
    "    punctuations = '''!()-[]{};:'\"\\,<>./?@#$%^&*_~'''\n",
    "    temp=str(x).lower().split(';')\n",
    "    res=[text_pro(x) for x in temp]\n",
    "    res1=[x.title() for x in res]\n",
    "    return res1"
   ]
  },
  {
   "cell_type": "code",
   "execution_count": 5,
   "metadata": {},
   "outputs": [],
   "source": [
    "def striphtml(data): #function for removing html tags\n",
    "    p = re.compile(r'<.*?>')\n",
    "    return p.sub('',data.lower())"
   ]
  },
  {
   "cell_type": "code",
   "execution_count": 6,
   "metadata": {},
   "outputs": [],
   "source": [
    "def text_pro(data): #function for removing html tags and punctuations\n",
    "    res=''\n",
    "    temp=striphtml(data)\n",
    "    punctuations = '''!()-[]{};:'\"\\,<>./?@#$%^&*_~'''\n",
    "    for ch in temp:\n",
    "        if ch not in punctuations:\n",
    "            res+=ch\n",
    "    return res"
   ]
  },
  {
   "cell_type": "code",
   "execution_count": 7,
   "metadata": {},
   "outputs": [],
   "source": [
    "def inv_pro(x):\n",
    "    return ' '.join(sorted(x.split()))"
   ]
  },
  {
   "cell_type": "code",
   "execution_count": 8,
   "metadata": {},
   "outputs": [
    {
     "name": "stdout",
     "output_type": "stream",
     "text": [
      "104738 records\n"
     ]
    }
   ],
   "source": [
    "df=pd.read_excel('/Users/cotraak/Desktop/Research/WIPO Process/Data/wipo_ai_raw.xlsx')\n",
    "df=df[(df['Application Year']<2019) & (df['Application Year']>=2000)]\n",
    "df=df.reset_index(drop=True)\n",
    "print(df.shape[0], 'records')"
   ]
  },
  {
   "cell_type": "code",
   "execution_count": 9,
   "metadata": {},
   "outputs": [
    {
     "name": "stdout",
     "output_type": "stream",
     "text": [
      "102579 records\n"
     ]
    }
   ],
   "source": [
    "df=df[(~df['Abstract'].isnull()) & (~df['Title'].isnull())]\n",
    "df=df[(~df['Applicants'].isnull()) & (~df['Inventors'].isnull())]\n",
    "df=df.reset_index(drop=True)\n",
    "print(df.shape[0], 'records')"
   ]
  },
  {
   "cell_type": "code",
   "execution_count": 10,
   "metadata": {},
   "outputs": [],
   "source": [
    "def is_entity(x):\n",
    "    for word in companies:\n",
    "        if word in x:\n",
    "            return True\n",
    "    for word in companies_ew:\n",
    "        if word.endswith(x):\n",
    "            return True\n",
    "    for word in universities:\n",
    "        if word in x:\n",
    "            return True\n",
    "    for word in research:\n",
    "        if word in x:\n",
    "            return True\n",
    "    for word in government:\n",
    "        if word in x:\n",
    "            return True\n",
    "    return False"
   ]
  },
  {
   "cell_type": "code",
   "execution_count": 11,
   "metadata": {},
   "outputs": [],
   "source": [
    "def first_entity(x):\n",
    "    for comp in x:\n",
    "        if is_entity(comp):\n",
    "            return comp\n",
    "    return x[0]"
   ]
  },
  {
   "cell_type": "code",
   "execution_count": 12,
   "metadata": {},
   "outputs": [],
   "source": [
    "companies=['Ltd', 'Llc', 'Technologies', 'Corporation', 'Corp', 'Properties', 'Philips', 'Ericsson', 'Novozymes', 'Novartis', 'Alcatel', \n",
    "           'Telecom', 'Industry', 'International', 'Loreal', 'Lucent', 'Bayer', 'Basf Se', 'Holdings', 'Merck & Co', \n",
    "           ' Company', 'Limited', 'Pharma', 'Solutions', 'Therapeutics','Kabushiki Kaisha','Intellectual Property',\n",
    "           'Aktiengesellschaft', 'Gmbh', 'Ecole', 'Bv', 'Biologicals', 'Licensing', 'Astrazeneca', 'Nordisk','Enterprise', \n",
    "           'Electronics', 'electronics', 'Ag ', 'Thales', 'Holding', 'As ', 'Plc', 'Spa ', 'Systems', 'Genetics', \n",
    "           ' Nv', 'Industrie', 'Association', 'Products', 'Schlumberger', 'Tyre', 'Nokia','Malaysian', ' Trust', \n",
    "           'Roche', 'Technology', 'Group', 'Compagnie', 'Arkema', 'Testing Service', 'Clinic', 'City Of Hope', 'Operations', \n",
    "           'Center', 'Services', 'Hospital', 'Aktiebolaget', 'Sas ', 'Norsk', 'Geophysical', 'Procter', 'Centre', 'Health', \n",
    "           'Laboratories',' Spa', 'Largan','Basell', 'Wells Fargo', 'Labs', 'Denko', 'Dupont', 'Coltd', \n",
    "           'Biolipox Ab', 'Bank', 'bank', 'Volvo', 'Microelektronica', 'Industeel', 'factory', 'Trucks', \n",
    "           'Systemes', 'Automotive', 'Automation', 'Engines', 'Teknologian', 'Merck Patent', 'Devices', \n",
    "           'Helicopters', 'Laboratoires', 'Biosciences', 'Nv ', 'Electricite', 'Global', 'Metabolic', 'Laboratory', \n",
    "           'Exxonmobil', 'Toshiba', 'Incorporated', 'Qualcomm', 'Instruments', 'Unilever', 'Energies','Participations',\n",
    "          'Hewlett Packard', 'Motor', 'Lockheed Martin', 'American Express', 'Sun Microsystems', 'Controls',\n",
    "           'Du Pont', 'Electric ', 'Corning','3D', 'Incorporated', 'Dow ', 'Precision', 'Haas And Rohm', '&', 'Co ',\n",
    "          'Leap Motion', 'Nuance Communications', 'Document', 'Smithkline', 'Opticals', ' Chemical']\n",
    "\n",
    "companies_ew=[' As',' Se', 'Skf', ' Ag', ' Ab', ' Lp', ' Sa', ' Srl', 'Lllp', 'Llp',' Mbh', ' Sl', ' Sprl', ' Oy',\n",
    "             'Infirmary', ' Lc', ' Aps', ' Na', ' Ev', ' Ai', ' Inc', 'Electric', ' Dow', ' Sas', ' Co']\n",
    "\n",
    "universities=['Universi', 'College', 'School', 'Educational', 'Regents', 'Institute Of Technology']\n",
    "\n",
    "research=['Research','Institut', 'Recherche', 'Energies Ifp Nouvelles', 'Foerderung', 'Scientifique', 'Istitut', \n",
    "          'Academia', 'Foundation ', 'Academy', 'Förderung', \n",
    "          'Nederlandse Organisatie Voor Toegepastnatuurwetenschappelijk Onderzoek Tno',\n",
    "         'Anonyme', 'Consejo Superior De Investigaciones Científicas Csic', 'Instituut',\n",
    "         'Crf Societa Consortile Per Azioni']\n",
    "\n",
    "government=['Commissariat','Foundation', 'National', 'Commonwealth', 'Nederlandse ', 'Secretary Of State',\n",
    "            'Investigaciones']"
   ]
  },
  {
   "cell_type": "code",
   "execution_count": 13,
   "metadata": {},
   "outputs": [
    {
     "name": "stderr",
     "output_type": "stream",
     "text": [
      "100%|██████████| 102579/102579 [00:10<00:00, 9781.61it/s]\n",
      "100%|██████████| 102579/102579 [00:00<00:00, 605364.25it/s]\n",
      "100%|██████████| 102579/102579 [00:00<00:00, 609634.20it/s]\n",
      "100%|██████████| 102579/102579 [00:00<00:00, 156777.23it/s]\n",
      "100%|██████████| 102579/102579 [00:00<00:00, 793997.71it/s]\n"
     ]
    },
    {
     "data": {
      "application/vnd.jupyter.widget-view+json": {
       "model_id": "0aeb1073dc134eb7a6fdbd6a892d4ed9",
       "version_major": 2,
       "version_minor": 0
      },
      "text/plain": [
       "HBox(children=(FloatProgress(value=0.0, max=102579.0), HTML(value='')))"
      ]
     },
     "metadata": {},
     "output_type": "display_data"
    },
    {
     "name": "stderr",
     "output_type": "stream",
     "text": [
      "  9%|▉         | 9520/102579 [00:00<00:00, 95199.18it/s]"
     ]
    },
    {
     "name": "stdout",
     "output_type": "stream",
     "text": [
      "\n"
     ]
    },
    {
     "name": "stderr",
     "output_type": "stream",
     "text": [
      "100%|██████████| 102579/102579 [00:01<00:00, 86225.19it/s]\n",
      "100%|██████████| 102579/102579 [00:00<00:00, 282596.12it/s]\n",
      "100%|██████████| 102579/102579 [00:00<00:00, 239175.48it/s]\n",
      "100%|██████████| 102579/102579 [00:00<00:00, 162477.97it/s]\n"
     ]
    },
    {
     "data": {
      "text/plain": [
       "(102579, 19)"
      ]
     },
     "execution_count": 13,
     "metadata": {},
     "output_type": "execute_result"
    }
   ],
   "source": [
    "df['type']=['Individual']*df.shape[0]\n",
    "\n",
    "df['Full Text']=df['Title']+'. '+df['Abstract']\n",
    "df['Full Text']=df['Full Text'].progress_apply(lambda x: text_pro(str(x)))\n",
    "\n",
    "df['Application Year']=df['Application Date'].progress_apply(lambda x: str(x).split('.')[2])\n",
    "df['Publication Year']=df['Publication Date'].progress_apply(lambda x: str(x).split('.')[2])\n",
    "\n",
    "df=df.drop(df[(df['Applicants'].astype(str).apply(lambda x: x.lower())=='nan') | (df['Inventors'].astype(str).apply(lambda x: x.lower())=='nan')].index)\n",
    "\n",
    "df['Inventors']=df['Inventors'].progress_apply(lambda x: [' '.join(sorted(str(y).strip().replace(',','').split())).title() for y in x.split(';')])\n",
    "df['Inventor']=df['Inventors'].progress_apply(lambda x: x[0])\n",
    "\n",
    "df['Applicants']=p_map(app_pro, df['Applicants'].astype(str).tolist())\n",
    "df['Applicant'] = df['Applicants'].progress_apply(lambda x: first_entity(x))\n",
    "\n",
    "df['I P C']=df['I P C'].progress_apply(lambda x: str(x).split(';'))\n",
    "df['IPC main']=df['I P C'].progress_apply(lambda x: sorted(list(set(y.strip().split()[0][0] for y in x))))\n",
    "df['IPC subclass']=df['I P C'].progress_apply(lambda x: sorted(list(set(y.strip().split()[0] for y in x))))\n",
    "\n",
    "df.shape"
   ]
  },
  {
   "cell_type": "code",
   "execution_count": 14,
   "metadata": {},
   "outputs": [
    {
     "name": "stderr",
     "output_type": "stream",
     "text": [
      "100%|██████████| 77/77 [00:04<00:00, 17.34it/s]\n",
      "100%|██████████| 161/161 [00:08<00:00, 18.90it/s]\n"
     ]
    }
   ],
   "source": [
    "maps_sw=[('Google', 'Google'),\n",
    "         ('Amazon', 'Amazon'),\n",
    "      ('Microsoft','Microsoft'),\n",
    "         ('Visa', 'Visa'),\n",
    "         ('Ge ','General Electric'),\n",
    "         ('Electric General', 'General Electric'),\n",
    "         ('Nuance ','Nuance Communications'),\n",
    "         ('Johnson Controls','Johnson Controls'),\n",
    "         ('Lsi ','Lsi Corporation'),\n",
    "         ('Intezyne ','Intezyne Technologies'),\n",
    "         ('Toray','Toray Industries'),\n",
    "         ('Symbol ','Symbol Technologies'),\n",
    "         ('Indiana University','Indiana University'),\n",
    "         ('Elwha ','Elwha'),\n",
    "         ('Council Of Scientific  Industrial Research','Council Of Scientific Industrial Research'),\n",
    "         ('Albemarle','Albemarle'),\n",
    "         ('Hong Fu Jin Precision','Hong Fu Jin Precision Industry Shenzhen Co Ltd'),\n",
    "         ('Zhejiang Sunny','Zhejiang Sunny Opticals'),\n",
    "         ('Oki ','Oki'),\n",
    "         ('National Semiconductor','National Semiconductor Corp'),\n",
    "         ('Sandia','Sandia'),\n",
    "         ('Isis ','Isis Pharmaceuticals'),\n",
    "         ('Cumminsallison','Cumminsallison Corp'),\n",
    "         ('Deka','Deka Products'),\n",
    "         ('Baker Hughes','Baker Hughes'),\n",
    "         ('Chevron','Chevron'),\n",
    "         ('Resmed','Resmed Ltd'),\n",
    "         ('Uab','Uab Foundation'),\n",
    "         ('Cornell ','Cornell University'),\n",
    "         ('University Of Colorado','University Of Colorado'),\n",
    "         ('Wyeth','Wyeth'),\n",
    "         ('Iceutica','Iceutica'),\n",
    "         ('National Research Council Of Canada','National Research Council Of Canada'),\n",
    "         ('Tellabs ','Tellabs'),\n",
    "         ('Agere ','Agere Systems'),\n",
    "         ('Verizon','Verizon'),\n",
    "         ('The Washington University','Washington University'),\n",
    "         ('Rohm And Haas','Rohm And Haas'),\n",
    "         ('Boe','Boe Technology Group'),\n",
    "         ('Smithkline','Smithkline Beecham'),\n",
    "         ('Sap ','Sap'),\n",
    "         ('Kyocera Document','Kyocera Document'),\n",
    "         ('Nissan ','Nissan'),\n",
    "         ('Medtronic','Medtronic'),\n",
    "         ('Janssen Pharmac','Janssen Pharmaceuticals'),\n",
    "         ('Sumitomo ','Sumitomo'),\n",
    "         ('Yamaha','Yamaha'),\n",
    "         ('Seagate','Seagate Technology'),\n",
    "         ('Actelion','Actelion Pharmaceuticals'),\n",
    "         ('Furuno ','Furuno Electric'),\n",
    "         ('Leap Motion','Leap Motion'),\n",
    "         ('Biogen ','Biogen'),\n",
    "         ('Tencent ','Tencent Technology'),\n",
    "         ('Sas','Sas Inc'),\n",
    "         ('Malaysian Palm Oil','Malaysian Palm Oil Board'),\n",
    "         ('Hyundai','Hyundai'),\n",
    "         ('Takeda','Takeda'),\n",
    "         ('Esperion ','Esperion'),\n",
    "         ('Taiwan Semiconductor','Taiwan Semiconductor Manufacturing Company'),\n",
    "         ('Zte','Zte'),\n",
    "         ('Sanyo ','Sanyo'),\n",
    "         ('Sabic','Sabic'),\n",
    "         ('Rutgers','Rutgers University'),\n",
    "         ('Shionogi','Shionogi Co Ltd'),\n",
    "         ('Tata Consultancy Services','Tata Consultancy Services'),\n",
    "         ('France Telecom','France Telecom'),\n",
    "         ('Agilent ','Agilent Technologies'),\n",
    "         ('British Telecommunications','British Telecommunications'),\n",
    "         ('Nitto ','Nitto Corp'),\n",
    "         ('Boehringer Ingelheim','Boehringer Ingelheim'),\n",
    "         ('Stmicroelectronics','Stmicroelectronics'),\n",
    "         ('University Of Washington','University Of Washington'),\n",
    "         ('Synta ','Synta Pharmaceuticals'),\n",
    "         ('University Of Utah','University Of Utah'),\n",
    "         ('Basf ','Basf Se'),\n",
    "         ('University Of Tennessee','University Of Tennessee'),\n",
    "         ('Unilever','Unilever'),\n",
    "         ('Pasteur','Pasteur Institute'),\n",
    "         ('Henkel ','Henkel'),\n",
    "         ('Novo Nordisk','Novo Nordisk'),\n",
    "         ('Georgia Tech','Georgia Tech Research Corp'),\n",
    "         ('Klatencor','Klatencor'),\n",
    "         ('Baylor','Baylor University'),\n",
    "         ('Millennium ','Millennium Pharma'),\n",
    "         ('Commonwealth Scientific','Commonwealth Scientific And Industrial Research'),\n",
    "         ('Sun Microsystems','Sun Microsystems'),\n",
    "         ('Basell','Basell Polyolefine'),\n",
    "         ('Mediatek','Mediatek'),\n",
    "         ('Jfe ','Jfe Corp'),\n",
    "         ('Lockheed','Lockheed Martin'),\n",
    "         ('Mastercard ','Mastercard'),\n",
    "         ('Salesforce','Salesforce'),\n",
    "         ('Yahoo','Yahoo'),\n",
    "         ('Corning','Corning Corporation'),\n",
    "         ('American Express','American Express'),\n",
    "         ('Ciena','Ciena Corp'),\n",
    "         ('Yeda','Yeda Research'),\n",
    "         ('Nvidia','Nvidia Corporation'),\n",
    "         ('Danisco','Danisco'),\n",
    "         ('Alcatel','Alcatel-Lucent'),\n",
    "         ('Tokyo Electron','Tokyo Electron Ltd'),\n",
    "         ('Angiotech','Angiotech'),\n",
    "         ('Hello','Hello'),\n",
    "         ('Omron','Omron'),\n",
    "         ('Exxonmobil','Exxonmobil'),\n",
    "         ('Facebook','Facebook'),\n",
    "         ('Hand Held','Hand Held Products'),\n",
    "         ('Eastman Chemical','Eastman Chemical'),\n",
    "         ('Konica','Konica Corporation'),\n",
    "         ('Automotive Technologies','Automotive Technologies'),\n",
    "      ('Schneider Electric','Schneider Electric'),\n",
    "      ('Largan Precision','Largan Precision'),\n",
    "         ('Olympus','Olympus'),\n",
    "         ('Danafarber Cancer','Danafarber Cancer'),\n",
    "         ('Hon Hai Precision','Hon Hai Precision'),\n",
    "     ('Samsung','Samsung'),\n",
    "         ('Marvell ','Marvell'),\n",
    "         ('Purdue','Purdue'),\n",
    "         ('Denso ','Denso Corp'),\n",
    "    ('Att ','At&t'),\n",
    "         ('Palo Alto','Palo Alto Research'),\n",
    "         ('Motorola','Motorola'),\n",
    "         ('Monsanto','Monsanto'),\n",
    "         ('Micron ','Micron Technology'),\n",
    "    ('Intel ','Intel'),\n",
    "         ('Hitachi ','Hitachi'),\n",
    "         ('Seimens ','Seimens'),\n",
    "         ('Glaxosmithkline','Glaxosmithkline'),\n",
    "         ('Nokia ','Nokia'),\n",
    "         ('Halliburton Energy','Halliburton Energy Services'),\n",
    "         ('Panasonic','Panasonic'),\n",
    "         ('Apple','Apple'),\n",
    "         ('Infineon Technologies','Infineon Technologies'),\n",
    "         ('Asml','Asml'),\n",
    "         ('Mitsubishi','Mitsubishi'),\n",
    "         ('Pioneer Hibred','Pioneer Hibred'),\n",
    "         ('Borealis','Borealis'),\n",
    "         ('Gilead','Gilead'),\n",
    "         ('Thomson Licensing','Thomson Licensing'),\n",
    "         ('Sharp ','Sharp'),\n",
    "         ('Accenture','Accenture'),\n",
    "         ('Rockwell Automat','Rockwell Automation'),\n",
    "         ('Oracle','Oracle'),\n",
    "         ('Shinetsu Chemical','Shinetsu Chemical'),\n",
    "         ('Astrazeneca','Astrazeneca'),\n",
    "         ('Mondobiotech ','Mondobiotech Labs'),\n",
    "         ('Fisherrosemount','Fisherrosemount'),\n",
    "         ('Fuji ','Fuji'),\n",
    "         ('Sumitomo Chemical','Sumitomo Chemical'),\n",
    "         ('Fujinon','Fujinon Coporation'),\n",
    "         ('Dolby','Dolby'),\n",
    "         ('Interdigital','Interdigital'),\n",
    "         ('Colgatepalmolive','Colgatepalmolive'),\n",
    "         ('Adobe','Adobe'),\n",
    "         ('Glaxo','Glaxosmithkline'),\n",
    "         ('Ricoh','Ricoh Company'),\n",
    "         ('Renesas','Renesas'),\n",
    "         ('Ntt','NTT'),\n",
    "         ('Kodak','Kodak'),\n",
    "         ('Ciba ','Ciba Speciality'),\n",
    "          ('Merck','Merck & Co')         \n",
    "     ]\n",
    "maps_con=[(' Business Machine', 'IBM'),\n",
    "          ('The University Of California','The University Of California'),\n",
    "          ('University Of Georgia','University Of Georgia Research Foundation'),\n",
    "          ('Princeton University','Princeton University'),\n",
    "          ('University Of British Columbia',' The University Of British Columbia'),\n",
    "          ('The University Of Texas','The University Of Texas'),\n",
    "          ('University Of Southern California','University Of Southern California'),\n",
    "         ('Fujifilm ','Fujifilm'),\n",
    "          ('Michigan State University','Michigan State University'),\n",
    "         ('Canon ', 'Canon'),\n",
    "          ('University Of Chicago','The University Of Chicago'),\n",
    "          ('Hoffmannla','Roche'),\n",
    "          ('Roche','Roche'),\n",
    "          ('Toshiba','Toshiba'),\n",
    "          ('Ecole','Ecole'),\n",
    "          ('Dow Chemical', 'Dow Chemical'),\n",
    "          ('Dow Corning', 'Dow Corning'),\n",
    "          ('Dow Silicones','Dow Corning'),\n",
    "          ('Lucent','Alcatel-Lucent'),\n",
    "         ('Fujitsu','Fujitsu'),\n",
    "          ('Northwestern University','Northwestern University'),\n",
    "          ('Brigham And Womens','Brigham And Womens Hospital'),\n",
    "          ('Timken','Timken & Co'),\n",
    "          ('Nippon ','Nippon'),\n",
    "         ('Sony ','Sony'),\n",
    "          ('Smithkline','Smithkline'),\n",
    "          ('United Tech','United Technologies Corp'),\n",
    "          ('Largan Precision','Largan Precision'),\n",
    "          ('Qualcomm','Qualcomm'),\n",
    "          ('Novozymes','Novozymes'),\n",
    "          ('Childrens Medical Center','Childrens Medical Center Corporation'),\n",
    "          ('Philips ','Philips'),\n",
    "          ('Broadcom ','Broadcom'),\n",
    "          ('Applied Materials','Applied Materials'),\n",
    "          ('Lg ','LG'),\n",
    "          ('Baidu ','Baidu'),\n",
    "          ('Ford Motor','Ford'),\n",
    "          ('Louisiana State','Louisiana State University'),\n",
    "          ('Ford Global','Ford'),\n",
    "          ('Novartis','Novartis'),\n",
    "          ('Broad ','Broad Institute Inc'),\n",
    "          ('Hewlett Packard','Hewlett Packard'),\n",
    "          ('Hewlettpackard','Hewlett Packard'),\n",
    "          ('Lm Ericsson','Lm Ericsson'),\n",
    "          ('Syngenta Participations','Syngenta Participations'),\n",
    "          ('General Electric','General Electric'),\n",
    "          ('Epson','Epson'),\n",
    "          ('Comcast','Comcast'),\n",
    "          ('Bosch','Bosch'),\n",
    "          ('Huawei','Huawei'),\n",
    "          ('Kia Silverbrook','Silverbrook Kia'),\n",
    "          ('Silverbrook Re', 'Silverbrook Research'),\n",
    "          ('Du Pont','Du Pont'),\n",
    "          ('3M Innovative','3M Innovative Properties'),\n",
    "          ('Nec ','NEC Corporation'),\n",
    "          ('Xerox','Xerox Corporation'),\n",
    "          ('Cisco','Cisco'),\n",
    "          ('Bristolmyers Squibb','Bristolmyers Squibb Company'),\n",
    "          ('L M Ericsson','Lm Ericsson'),\n",
    "          ('Texas Instruments','Texas Instruments'),\n",
    "          ('Toyota','Toyota'),\n",
    "          ('Johns Hopkins','The John Hopkins University'),\n",
    "          ('John Hopkins','The John Hopkins University'),\n",
    "          ('Honeywell','Honeywell'),\n",
    "          ('Schlumberger','Schlumberger'),\n",
    "          ('Nortel ','Nortel'),\n",
    "          ('Nikon','Nikon'),\n",
    "          ('Matsushita Electric','Matsushita Electric'),\n",
    "          ('Bayer','Bayer'),\n",
    "          ('National Instruments','National Instruments'),\n",
    "          ('Loreal','Loreal'),\n",
    "          ('Pfizer','Pfizer'),\n",
    "          ('Alnylam Pharmaceuticals','Alnylam Pharmaceuticals'),\n",
    "          ('Honda Motor','Honda'),\n",
    "          ('Uab', 'Uab Foundation')\n",
    "          ('Boeing','The Boeing Company'),\n",
    "          ('University Of Massachusetts','University Of Massachusetts'),\n",
    "          ('Procter ','Procter & Gamble'),\n",
    "         ('Cambridge','Cambridge Ltd')\n",
    "          \n",
    "         ]\n",
    "\n",
    "for comp in tqdm(maps_con):\n",
    "    df.loc[df['Applicant'].str.contains(comp[0]), 'Applicant']=comp[1]\n",
    "for comp in tqdm(maps_sw):\n",
    "    df.loc[df['Applicant'].str.startswith(comp[0]), 'Applicant']=comp[1]"
   ]
  },
  {
   "cell_type": "code",
   "execution_count": 15,
   "metadata": {},
   "outputs": [
    {
     "name": "stderr",
     "output_type": "stream",
     "text": [
      "100%|██████████| 77/77 [00:17<00:00,  4.42it/s]\n",
      "100%|██████████| 161/161 [00:38<00:00,  4.14it/s]\n"
     ]
    }
   ],
   "source": [
    "for comp in tqdm(maps_con):\n",
    "    df['Applicants']=df['Applicants'].apply(lambda x: [comp[1] if comp[0] in y else y.upper() for y in x])\n",
    "for comp in tqdm(maps_sw):\n",
    "    df['Applicants']=df['Applicants'].apply(lambda x: [comp[1] if (y.startswith(comp[0])) else y.upper() for y in x])"
   ]
  },
  {
   "cell_type": "code",
   "execution_count": 16,
   "metadata": {},
   "outputs": [
    {
     "name": "stderr",
     "output_type": "stream",
     "text": [
      "Gov: 100%|██████████| 7/7 [00:00<00:00, 17.56it/s]\n",
      "Research Institutes: 100%|██████████| 16/16 [00:00<00:00, 18.12it/s]\n",
      "Universities: 100%|██████████| 6/6 [00:00<00:00, 17.82it/s]\n",
      "Companies: 100%|██████████| 127/127 [00:06<00:00, 18.36it/s]\n",
      "Companies Endswith: 100%|██████████| 24/24 [00:01<00:00, 22.18it/s]\n",
      "100%|██████████| 13676/13676 [00:00<00:00, 505323.59it/s]\n"
     ]
    }
   ],
   "source": [
    "for kw in tqdm(government, desc='Gov'):\n",
    "    df.loc[df['Applicant'].str.contains(kw), 'type']='Government'\n",
    "\n",
    "for kw in tqdm(research, desc='Research Institutes'):\n",
    "    df.loc[df['Applicant'].str.contains(kw), 'type']='Research Institute'\n",
    "    \n",
    "for kw in tqdm(universities, desc='Universities'):\n",
    "    df.loc[df['Applicant'].str.contains(kw), 'type']='University'\n",
    "\n",
    "for kw in tqdm(companies, desc='Companies'):\n",
    "    df.loc[df['Applicant'].str.contains(kw), 'type']='Company'\n",
    "\n",
    "for kw in tqdm(companies_ew, desc='Companies Endswith'):\n",
    "    df.loc[df['Applicant'].str.endswith(kw), 'type']='Company'\n",
    "    \n",
    "df.loc[df['Applicant'].str.split().str.len()==1, 'type']='Company'\n",
    "\n",
    "df.loc[df['type']=='Individual', 'Applicant']=df[df['type']=='Individual']['Applicant'].progress_apply(lambda x: inv_pro(x))"
   ]
  },
  {
   "cell_type": "code",
   "execution_count": 17,
   "metadata": {},
   "outputs": [
    {
     "data": {
      "text/plain": [
       "Company               82632\n",
       "Individual            13676\n",
       "University             4327\n",
       "Research Institute     1749\n",
       "Government              195\n",
       "Name: type, dtype: int64"
      ]
     },
     "execution_count": 17,
     "metadata": {},
     "output_type": "execute_result"
    }
   ],
   "source": [
    "df['type'].value_counts()"
   ]
  },
  {
   "cell_type": "code",
   "execution_count": 18,
   "metadata": {},
   "outputs": [],
   "source": [
    "df[['Application Id', 'Application Year', 'Full Text', 'Applicant', 'type']].to_excel('/Users/cotraak/Desktop/Research/WIPO Process/Data/wipo_ai_processed2.xlsx', index=False)\n",
    "df[['Application Id','Application Year','Full Text','IPC main','IPC subclass']].to_excel('/Users/cotraak/Desktop/Research/WIPO Process/Data/wipo_ai_ipcs.xlsx',index=False)"
   ]
  },
  {
   "cell_type": "code",
   "execution_count": 19,
   "metadata": {},
   "outputs": [],
   "source": [
    "dtf=df[['Application Id', 'Application Year', 'Full Text', 'Applicant', 'type']]"
   ]
  },
  {
   "cell_type": "code",
   "execution_count": 20,
   "metadata": {},
   "outputs": [
    {
     "data": {
      "text/html": [
       "<div>\n",
       "<style scoped>\n",
       "    .dataframe tbody tr th:only-of-type {\n",
       "        vertical-align: middle;\n",
       "    }\n",
       "\n",
       "    .dataframe tbody tr th {\n",
       "        vertical-align: top;\n",
       "    }\n",
       "\n",
       "    .dataframe thead th {\n",
       "        text-align: right;\n",
       "    }\n",
       "</style>\n",
       "<table border=\"1\" class=\"dataframe\">\n",
       "  <thead>\n",
       "    <tr style=\"text-align: right;\">\n",
       "      <th></th>\n",
       "      <th>Application Id</th>\n",
       "      <th>Application Year</th>\n",
       "      <th>Full Text</th>\n",
       "      <th>Applicant</th>\n",
       "      <th>type</th>\n",
       "    </tr>\n",
       "  </thead>\n",
       "  <tbody>\n",
       "    <tr>\n",
       "      <th>0</th>\n",
       "      <td>US42597370</td>\n",
       "      <td>2000</td>\n",
       "      <td>bacterial strains genes and enzymes for contro...</td>\n",
       "      <td>Institute Of Molecular Agrobiology</td>\n",
       "      <td>Research Institute</td>\n",
       "    </tr>\n",
       "    <tr>\n",
       "      <th>1</th>\n",
       "      <td>US39458207</td>\n",
       "      <td>2000</td>\n",
       "      <td>reversible rolling method and reversible rolli...</td>\n",
       "      <td>Hitachi</td>\n",
       "      <td>Company</td>\n",
       "    </tr>\n",
       "    <tr>\n",
       "      <th>2</th>\n",
       "      <td>WO2001024205</td>\n",
       "      <td>2000</td>\n",
       "      <td>composite magnetic sheet and method of produci...</td>\n",
       "      <td>Tokin Corporation</td>\n",
       "      <td>Company</td>\n",
       "    </tr>\n",
       "    <tr>\n",
       "      <th>3</th>\n",
       "      <td>US39488862</td>\n",
       "      <td>2000</td>\n",
       "      <td>compounding assembly for nutritional fluids an...</td>\n",
       "      <td>Baxter International Inc</td>\n",
       "      <td>Company</td>\n",
       "    </tr>\n",
       "    <tr>\n",
       "      <th>4</th>\n",
       "      <td>US39579616</td>\n",
       "      <td>2000</td>\n",
       "      <td>hydrotreating catalyst for hydrotreating hydro...</td>\n",
       "      <td>Tonen Corporation</td>\n",
       "      <td>Company</td>\n",
       "    </tr>\n",
       "  </tbody>\n",
       "</table>\n",
       "</div>"
      ],
      "text/plain": [
       "  Application Id Application Year  \\\n",
       "0     US42597370             2000   \n",
       "1     US39458207             2000   \n",
       "2   WO2001024205             2000   \n",
       "3     US39488862             2000   \n",
       "4     US39579616             2000   \n",
       "\n",
       "                                           Full Text  \\\n",
       "0  bacterial strains genes and enzymes for contro...   \n",
       "1  reversible rolling method and reversible rolli...   \n",
       "2  composite magnetic sheet and method of produci...   \n",
       "3  compounding assembly for nutritional fluids an...   \n",
       "4  hydrotreating catalyst for hydrotreating hydro...   \n",
       "\n",
       "                            Applicant                type  \n",
       "0  Institute Of Molecular Agrobiology  Research Institute  \n",
       "1                             Hitachi             Company  \n",
       "2                   Tokin Corporation             Company  \n",
       "3            Baxter International Inc             Company  \n",
       "4                   Tonen Corporation             Company  "
      ]
     },
     "execution_count": 20,
     "metadata": {},
     "output_type": "execute_result"
    }
   ],
   "source": [
    "dtf.head()"
   ]
  },
  {
   "cell_type": "code",
   "execution_count": null,
   "metadata": {},
   "outputs": [],
   "source": []
  }
 ],
 "metadata": {
  "kernelspec": {
   "display_name": "Python 3",
   "language": "python",
   "name": "python3"
  },
  "language_info": {
   "codemirror_mode": {
    "name": "ipython",
    "version": 3
   },
   "file_extension": ".py",
   "mimetype": "text/x-python",
   "name": "python",
   "nbconvert_exporter": "python",
   "pygments_lexer": "ipython3",
   "version": "3.8.6"
  }
 },
 "nbformat": 4,
 "nbformat_minor": 2
}
